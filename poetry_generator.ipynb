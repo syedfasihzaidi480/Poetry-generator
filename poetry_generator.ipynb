{
  "metadata": {
    "kernelspec": {
      "language": "python",
      "display_name": "Python 3",
      "name": "python3"
    },
    "language_info": {
      "name": "python",
      "version": "3.10.12",
      "mimetype": "text/x-python",
      "codemirror_mode": {
        "name": "ipython",
        "version": 3
      },
      "pygments_lexer": "ipython3",
      "nbconvert_exporter": "python",
      "file_extension": ".py"
    },
    "kaggle": {
      "accelerator": "nvidiaTeslaT4",
      "dataSources": [
        {
          "sourceId": 10771363,
          "sourceType": "datasetVersion",
          "datasetId": 6682246
        },
        {
          "sourceType": "datasetVersion",
          "sourceId": 10771608,
          "datasetId": 6682432
        }
      ],
      "dockerImageVersionId": 30887,
      "isInternetEnabled": true,
      "language": "python",
      "sourceType": "notebook",
      "isGpuEnabled": true
    },
    "colab": {
      "provenance": [],
      "include_colab_link": true
    }
  },
  "nbformat_minor": 0,
  "nbformat": 4,
  "cells": [
    {
      "cell_type": "markdown",
      "metadata": {
        "id": "view-in-github",
        "colab_type": "text"
      },
      "source": [
        "<a href=\"https://colab.research.google.com/github/syedfasihzaidi480/Poetry-generator/blob/main/poetry_generator.ipynb\" target=\"_parent\"><img src=\"https://colab.research.google.com/assets/colab-badge.svg\" alt=\"Open In Colab\"/></a>"
      ]
    },
    {
      "cell_type": "code",
      "source": [
        "!pip install tensorflow"
      ],
      "metadata": {
        "_uuid": "8f2839f25d086af736a60e9eeb907d3b93b6e0e5",
        "_cell_guid": "b1076dfc-b9ad-4769-8c92-a6c4dae69d19",
        "trusted": true,
        "execution": {
          "iopub.status.busy": "2025-02-17T09:38:23.393619Z",
          "iopub.execute_input": "2025-02-17T09:38:23.394003Z",
          "iopub.status.idle": "2025-02-17T09:38:28.207240Z",
          "shell.execute_reply.started": "2025-02-17T09:38:23.393974Z",
          "shell.execute_reply": "2025-02-17T09:38:28.206333Z"
        },
        "id": "9siJDFkAOkpa",
        "outputId": "39b0f5a1-7f77-4671-eb60-0d5a998c3901"
      },
      "outputs": [
        {
          "name": "stdout",
          "text": "Requirement already satisfied: tensorflow in /usr/local/lib/python3.10/dist-packages (2.17.1)\nRequirement already satisfied: absl-py>=1.0.0 in /usr/local/lib/python3.10/dist-packages (from tensorflow) (1.4.0)\nRequirement already satisfied: astunparse>=1.6.0 in /usr/local/lib/python3.10/dist-packages (from tensorflow) (1.6.3)\nRequirement already satisfied: flatbuffers>=24.3.25 in /usr/local/lib/python3.10/dist-packages (from tensorflow) (24.3.25)\nRequirement already satisfied: gast!=0.5.0,!=0.5.1,!=0.5.2,>=0.2.1 in /usr/local/lib/python3.10/dist-packages (from tensorflow) (0.6.0)\nRequirement already satisfied: google-pasta>=0.1.1 in /usr/local/lib/python3.10/dist-packages (from tensorflow) (0.2.0)\nRequirement already satisfied: h5py>=3.10.0 in /usr/local/lib/python3.10/dist-packages (from tensorflow) (3.12.1)\nRequirement already satisfied: libclang>=13.0.0 in /usr/local/lib/python3.10/dist-packages (from tensorflow) (18.1.1)\nRequirement already satisfied: ml-dtypes<0.5.0,>=0.3.1 in /usr/local/lib/python3.10/dist-packages (from tensorflow) (0.4.1)\nRequirement already satisfied: opt-einsum>=2.3.2 in /usr/local/lib/python3.10/dist-packages (from tensorflow) (3.4.0)\nRequirement already satisfied: packaging in /usr/local/lib/python3.10/dist-packages (from tensorflow) (24.2)\nRequirement already satisfied: protobuf!=4.21.0,!=4.21.1,!=4.21.2,!=4.21.3,!=4.21.4,!=4.21.5,<5.0.0dev,>=3.20.3 in /usr/local/lib/python3.10/dist-packages (from tensorflow) (3.20.3)\nRequirement already satisfied: requests<3,>=2.21.0 in /usr/local/lib/python3.10/dist-packages (from tensorflow) (2.32.3)\nRequirement already satisfied: setuptools in /usr/local/lib/python3.10/dist-packages (from tensorflow) (75.1.0)\nRequirement already satisfied: six>=1.12.0 in /usr/local/lib/python3.10/dist-packages (from tensorflow) (1.17.0)\nRequirement already satisfied: termcolor>=1.1.0 in /usr/local/lib/python3.10/dist-packages (from tensorflow) (2.5.0)\nRequirement already satisfied: typing-extensions>=3.6.6 in /usr/local/lib/python3.10/dist-packages (from tensorflow) (4.12.2)\nRequirement already satisfied: wrapt>=1.11.0 in /usr/local/lib/python3.10/dist-packages (from tensorflow) (1.17.0)\nRequirement already satisfied: grpcio<2.0,>=1.24.3 in /usr/local/lib/python3.10/dist-packages (from tensorflow) (1.68.1)\nRequirement already satisfied: tensorboard<2.18,>=2.17 in /usr/local/lib/python3.10/dist-packages (from tensorflow) (2.17.1)\nRequirement already satisfied: keras>=3.2.0 in /usr/local/lib/python3.10/dist-packages (from tensorflow) (3.5.0)\nRequirement already satisfied: tensorflow-io-gcs-filesystem>=0.23.1 in /usr/local/lib/python3.10/dist-packages (from tensorflow) (0.37.1)\nRequirement already satisfied: numpy<2.0.0,>=1.23.5 in /usr/local/lib/python3.10/dist-packages (from tensorflow) (1.26.4)\nRequirement already satisfied: wheel<1.0,>=0.23.0 in /usr/local/lib/python3.10/dist-packages (from astunparse>=1.6.0->tensorflow) (0.45.1)\nRequirement already satisfied: rich in /usr/local/lib/python3.10/dist-packages (from keras>=3.2.0->tensorflow) (13.9.4)\nRequirement already satisfied: namex in /usr/local/lib/python3.10/dist-packages (from keras>=3.2.0->tensorflow) (0.0.8)\nRequirement already satisfied: optree in /usr/local/lib/python3.10/dist-packages (from keras>=3.2.0->tensorflow) (0.13.1)\nRequirement already satisfied: mkl_fft in /usr/local/lib/python3.10/dist-packages (from numpy<2.0.0,>=1.23.5->tensorflow) (1.3.8)\nRequirement already satisfied: mkl_random in /usr/local/lib/python3.10/dist-packages (from numpy<2.0.0,>=1.23.5->tensorflow) (1.2.4)\nRequirement already satisfied: mkl_umath in /usr/local/lib/python3.10/dist-packages (from numpy<2.0.0,>=1.23.5->tensorflow) (0.1.1)\nRequirement already satisfied: mkl in /usr/local/lib/python3.10/dist-packages (from numpy<2.0.0,>=1.23.5->tensorflow) (2025.0.1)\nRequirement already satisfied: tbb4py in /usr/local/lib/python3.10/dist-packages (from numpy<2.0.0,>=1.23.5->tensorflow) (2022.0.0)\nRequirement already satisfied: mkl-service in /usr/local/lib/python3.10/dist-packages (from numpy<2.0.0,>=1.23.5->tensorflow) (2.4.1)\nRequirement already satisfied: charset-normalizer<4,>=2 in /usr/local/lib/python3.10/dist-packages (from requests<3,>=2.21.0->tensorflow) (3.4.1)\nRequirement already satisfied: idna<4,>=2.5 in /usr/local/lib/python3.10/dist-packages (from requests<3,>=2.21.0->tensorflow) (3.10)\nRequirement already satisfied: urllib3<3,>=1.21.1 in /usr/local/lib/python3.10/dist-packages (from requests<3,>=2.21.0->tensorflow) (2.3.0)\nRequirement already satisfied: certifi>=2017.4.17 in /usr/local/lib/python3.10/dist-packages (from requests<3,>=2.21.0->tensorflow) (2025.1.31)\nRequirement already satisfied: markdown>=2.6.8 in /usr/local/lib/python3.10/dist-packages (from tensorboard<2.18,>=2.17->tensorflow) (3.7)\nRequirement already satisfied: tensorboard-data-server<0.8.0,>=0.7.0 in /usr/local/lib/python3.10/dist-packages (from tensorboard<2.18,>=2.17->tensorflow) (0.7.2)\nRequirement already satisfied: werkzeug>=1.0.1 in /usr/local/lib/python3.10/dist-packages (from tensorboard<2.18,>=2.17->tensorflow) (3.1.3)\nRequirement already satisfied: MarkupSafe>=2.1.1 in /usr/local/lib/python3.10/dist-packages (from werkzeug>=1.0.1->tensorboard<2.18,>=2.17->tensorflow) (3.0.2)\nRequirement already satisfied: intel-openmp>=2024 in /usr/local/lib/python3.10/dist-packages (from mkl->numpy<2.0.0,>=1.23.5->tensorflow) (2024.2.0)\nRequirement already satisfied: tbb==2022.* in /usr/local/lib/python3.10/dist-packages (from mkl->numpy<2.0.0,>=1.23.5->tensorflow) (2022.0.0)\nRequirement already satisfied: tcmlib==1.* in /usr/local/lib/python3.10/dist-packages (from tbb==2022.*->mkl->numpy<2.0.0,>=1.23.5->tensorflow) (1.2.0)\nRequirement already satisfied: intel-cmplr-lib-rt in /usr/local/lib/python3.10/dist-packages (from mkl_umath->numpy<2.0.0,>=1.23.5->tensorflow) (2024.2.0)\nRequirement already satisfied: markdown-it-py>=2.2.0 in /usr/local/lib/python3.10/dist-packages (from rich->keras>=3.2.0->tensorflow) (3.0.0)\nRequirement already satisfied: pygments<3.0.0,>=2.13.0 in /usr/local/lib/python3.10/dist-packages (from rich->keras>=3.2.0->tensorflow) (2.19.1)\nRequirement already satisfied: intel-cmplr-lib-ur==2024.2.0 in /usr/local/lib/python3.10/dist-packages (from intel-openmp>=2024->mkl->numpy<2.0.0,>=1.23.5->tensorflow) (2024.2.0)\nRequirement already satisfied: mdurl~=0.1 in /usr/local/lib/python3.10/dist-packages (from markdown-it-py>=2.2.0->rich->keras>=3.2.0->tensorflow) (0.1.2)\n",
          "output_type": "stream"
        }
      ],
      "execution_count": null
    },
    {
      "cell_type": "code",
      "source": [
        "import numpy as np\n",
        "import pandas as pd\n",
        "import tensorflow as tf\n",
        "from tensorflow.keras.preprocessing.text import Tokenizer\n",
        "from tensorflow.keras.preprocessing.sequence import pad_sequences\n",
        "from tensorflow.keras.models import Sequential\n",
        "from tensorflow.keras.layers import Embedding, LSTM, Dense, Dropout\n",
        "from tensorflow.keras.optimizers import Adam\n",
        "from tensorflow.keras.utils import to_categorical\n",
        "from tqdm import tqdm  # For progress bar"
      ],
      "metadata": {
        "trusted": true,
        "execution": {
          "iopub.status.busy": "2025-02-17T09:38:28.208555Z",
          "iopub.execute_input": "2025-02-17T09:38:28.208809Z",
          "iopub.status.idle": "2025-02-17T09:38:39.298045Z",
          "shell.execute_reply.started": "2025-02-17T09:38:28.208770Z",
          "shell.execute_reply": "2025-02-17T09:38:39.297333Z"
        },
        "id": "VedfQeYKOkpg"
      },
      "outputs": [],
      "execution_count": null
    },
    {
      "cell_type": "code",
      "source": [
        "# Load dataset\n",
        "df = pd.read_csv(\"/kaggle/input/dataset/Roman-Urdu-Poetry.csv\", delimiter=\",\", quotechar='\"', encoding=\"utf-8\")\n",
        "df.columns = [\"ID\", \"Poet\", \"Poetry\"]\n"
      ],
      "metadata": {
        "trusted": true,
        "execution": {
          "iopub.status.busy": "2025-02-17T09:38:39.299298Z",
          "iopub.execute_input": "2025-02-17T09:38:39.299853Z",
          "iopub.status.idle": "2025-02-17T09:38:39.342471Z",
          "shell.execute_reply.started": "2025-02-17T09:38:39.299828Z",
          "shell.execute_reply": "2025-02-17T09:38:39.341603Z"
        },
        "id": "im-26jT9Okpj"
      },
      "outputs": [],
      "execution_count": null
    },
    {
      "cell_type": "code",
      "source": [
        "# Preprocessing\n",
        "poetry_lines = df['Poetry'].dropna().tolist()"
      ],
      "metadata": {
        "trusted": true,
        "execution": {
          "iopub.status.busy": "2025-02-17T09:38:39.343777Z",
          "iopub.execute_input": "2025-02-17T09:38:39.344080Z",
          "iopub.status.idle": "2025-02-17T09:38:39.352532Z",
          "shell.execute_reply.started": "2025-02-17T09:38:39.344056Z",
          "shell.execute_reply": "2025-02-17T09:38:39.351630Z"
        },
        "id": "RiRsReDQOkpk"
      },
      "outputs": [],
      "execution_count": null
    },
    {
      "cell_type": "code",
      "source": [
        "# Tokenization\n",
        "tokenizer = Tokenizer()\n",
        "tokenizer.fit_on_texts(poetry_lines)\n",
        "total_words = len(tokenizer.word_index) + 1  # Vocabulary size\n"
      ],
      "metadata": {
        "trusted": true,
        "execution": {
          "iopub.status.busy": "2025-02-17T09:38:39.353609Z",
          "iopub.execute_input": "2025-02-17T09:38:39.353989Z",
          "iopub.status.idle": "2025-02-17T09:38:39.475398Z",
          "shell.execute_reply.started": "2025-02-17T09:38:39.353954Z",
          "shell.execute_reply": "2025-02-17T09:38:39.474780Z"
        },
        "id": "PwnQ-XpFOkpk"
      },
      "outputs": [],
      "execution_count": null
    },
    {
      "cell_type": "code",
      "source": [
        "# Create sequences\n",
        "input_sequences = []\n",
        "for line in poetry_lines:\n",
        "    token_list = tokenizer.texts_to_sequences([line])[0]\n",
        "    for i in range(1, len(token_list)):\n",
        "        input_sequences.append(token_list[:i+1])"
      ],
      "metadata": {
        "trusted": true,
        "execution": {
          "iopub.status.busy": "2025-02-17T09:38:39.476215Z",
          "iopub.execute_input": "2025-02-17T09:38:39.476505Z",
          "iopub.status.idle": "2025-02-17T09:38:40.071885Z",
          "shell.execute_reply.started": "2025-02-17T09:38:39.476477Z",
          "shell.execute_reply": "2025-02-17T09:38:40.070882Z"
        },
        "id": "AzuKxd1QOkpl"
      },
      "outputs": [],
      "execution_count": null
    },
    {
      "cell_type": "code",
      "source": [
        "# Pad sequences\n",
        "max_sequence_length = max(len(seq) for seq in input_sequences)\n",
        "input_sequences = pad_sequences(input_sequences, maxlen=max_sequence_length, padding='pre')\n"
      ],
      "metadata": {
        "trusted": true,
        "execution": {
          "iopub.status.busy": "2025-02-17T09:38:40.072730Z",
          "iopub.execute_input": "2025-02-17T09:38:40.073025Z",
          "iopub.status.idle": "2025-02-17T09:38:41.392191Z",
          "shell.execute_reply.started": "2025-02-17T09:38:40.073004Z",
          "shell.execute_reply": "2025-02-17T09:38:41.391210Z"
        },
        "id": "FTCS29peOkpm"
      },
      "outputs": [],
      "execution_count": null
    },
    {
      "cell_type": "code",
      "source": [
        "# Split input & output\n",
        "X, y = input_sequences[:, :-1], input_sequences[:, -1]\n",
        "y = to_categorical(y, num_classes=total_words)"
      ],
      "metadata": {
        "trusted": true,
        "execution": {
          "iopub.status.busy": "2025-02-17T09:38:41.394617Z",
          "iopub.execute_input": "2025-02-17T09:38:41.394924Z",
          "iopub.status.idle": "2025-02-17T09:38:41.924754Z",
          "shell.execute_reply.started": "2025-02-17T09:38:41.394904Z",
          "shell.execute_reply": "2025-02-17T09:38:41.923714Z"
        },
        "id": "ykLKuHqBOkpm"
      },
      "outputs": [],
      "execution_count": null
    },
    {
      "cell_type": "code",
      "source": [
        "# Build LSTM Model\n",
        "model = Sequential([\n",
        "    Embedding(total_words, 128, input_length=max_sequence_length - 1),\n",
        "    LSTM(256, return_sequences=True),\n",
        "    Dropout(0.3),\n",
        "    LSTM(128),\n",
        "    Dense(128, activation='relu'),\n",
        "    Dropout(0.2),\n",
        "    Dense(total_words, activation='softmax')\n",
        "])\n",
        "\n",
        "model.compile(loss='categorical_crossentropy', optimizer=Adam(learning_rate=0.001), metrics=['accuracy'])\n"
      ],
      "metadata": {
        "trusted": true,
        "execution": {
          "iopub.status.busy": "2025-02-17T09:38:41.925933Z",
          "iopub.execute_input": "2025-02-17T09:38:41.926240Z",
          "iopub.status.idle": "2025-02-17T09:38:43.341034Z",
          "shell.execute_reply.started": "2025-02-17T09:38:41.926218Z",
          "shell.execute_reply": "2025-02-17T09:38:43.340173Z"
        },
        "id": "XoG1XoApOkpn",
        "outputId": "80c9c201-190b-432c-a73d-354efde120bf"
      },
      "outputs": [
        {
          "name": "stderr",
          "text": "/usr/local/lib/python3.10/dist-packages/keras/src/layers/core/embedding.py:90: UserWarning: Argument `input_length` is deprecated. Just remove it.\n  warnings.warn(\n",
          "output_type": "stream"
        }
      ],
      "execution_count": null
    },
    {
      "cell_type": "code",
      "source": [
        "# Training with TQDM\n",
        "epochs = 10\n",
        "batch_size = 64\n",
        "\n",
        "for epoch in tqdm(range(epochs), desc=\"Training Progress\", unit=\"epoch\"):\n",
        "    model.fit(X, y, batch_size=batch_size, epochs=1, verbose=1)\n"
      ],
      "metadata": {
        "trusted": true,
        "execution": {
          "iopub.status.busy": "2025-02-17T09:38:43.342086Z",
          "iopub.execute_input": "2025-02-17T09:38:43.342338Z",
          "iopub.status.idle": "2025-02-17T10:22:26.460369Z",
          "shell.execute_reply.started": "2025-02-17T09:38:43.342317Z",
          "shell.execute_reply": "2025-02-17T10:22:26.459410Z"
        },
        "id": "aReyMB_hOkpo",
        "outputId": "7c299dab-307c-4bcf-b6e4-c71856bd78a8"
      },
      "outputs": [
        {
          "name": "stderr",
          "text": "Training Progress:   0%|          | 0/10 [00:00<?, ?epoch/s]",
          "output_type": "stream"
        },
        {
          "name": "stdout",
          "text": "\u001b[1m2888/2888\u001b[0m \u001b[32m━━━━━━━━━━━━━━━━━━━━\u001b[0m\u001b[37m\u001b[0m \u001b[1m243s\u001b[0m 82ms/step - accuracy: 0.0593 - loss: 6.7966\n",
          "output_type": "stream"
        },
        {
          "name": "stderr",
          "text": "Training Progress:  10%|█         | 1/10 [04:29<40:21, 269.11s/epoch]",
          "output_type": "stream"
        },
        {
          "name": "stdout",
          "text": "\u001b[1m2888/2888\u001b[0m \u001b[32m━━━━━━━━━━━━━━━━━━━━\u001b[0m\u001b[37m\u001b[0m \u001b[1m242s\u001b[0m 84ms/step - accuracy: 0.0808 - loss: 6.3041\n",
          "output_type": "stream"
        },
        {
          "name": "stderr",
          "text": "Training Progress:  20%|██        | 2/10 [08:51<35:22, 265.27s/epoch]",
          "output_type": "stream"
        },
        {
          "name": "stdout",
          "text": "\u001b[1m2888/2888\u001b[0m \u001b[32m━━━━━━━━━━━━━━━━━━━━\u001b[0m\u001b[37m\u001b[0m \u001b[1m242s\u001b[0m 84ms/step - accuracy: 0.0948 - loss: 6.1381\n",
          "output_type": "stream"
        },
        {
          "name": "stderr",
          "text": "Training Progress:  30%|███       | 3/10 [13:14<30:47, 263.93s/epoch]",
          "output_type": "stream"
        },
        {
          "name": "stdout",
          "text": "\u001b[1m2888/2888\u001b[0m \u001b[32m━━━━━━━━━━━━━━━━━━━━\u001b[0m\u001b[37m\u001b[0m \u001b[1m241s\u001b[0m 83ms/step - accuracy: 0.1023 - loss: 6.0201\n",
          "output_type": "stream"
        },
        {
          "name": "stderr",
          "text": "Training Progress:  40%|████      | 4/10 [17:35<26:17, 262.97s/epoch]",
          "output_type": "stream"
        },
        {
          "name": "stdout",
          "text": "\u001b[1m2888/2888\u001b[0m \u001b[32m━━━━━━━━━━━━━━━━━━━━\u001b[0m\u001b[37m\u001b[0m \u001b[1m240s\u001b[0m 83ms/step - accuracy: 0.1105 - loss: 5.9065\n",
          "output_type": "stream"
        },
        {
          "name": "stderr",
          "text": "Training Progress:  50%|█████     | 5/10 [21:56<21:50, 262.18s/epoch]",
          "output_type": "stream"
        },
        {
          "name": "stdout",
          "text": "\u001b[1m2888/2888\u001b[0m \u001b[32m━━━━━━━━━━━━━━━━━━━━\u001b[0m\u001b[37m\u001b[0m \u001b[1m241s\u001b[0m 83ms/step - accuracy: 0.1188 - loss: 5.8009\n",
          "output_type": "stream"
        },
        {
          "name": "stderr",
          "text": "Training Progress:  60%|██████    | 6/10 [26:17<17:27, 261.98s/epoch]",
          "output_type": "stream"
        },
        {
          "name": "stdout",
          "text": "\u001b[1m2888/2888\u001b[0m \u001b[32m━━━━━━━━━━━━━━━━━━━━\u001b[0m\u001b[37m\u001b[0m \u001b[1m241s\u001b[0m 83ms/step - accuracy: 0.1230 - loss: 5.6988\n",
          "output_type": "stream"
        },
        {
          "name": "stderr",
          "text": "Training Progress:  70%|███████   | 7/10 [30:39<13:05, 261.88s/epoch]",
          "output_type": "stream"
        },
        {
          "name": "stdout",
          "text": "\u001b[1m2888/2888\u001b[0m \u001b[32m━━━━━━━━━━━━━━━━━━━━\u001b[0m\u001b[37m\u001b[0m \u001b[1m240s\u001b[0m 83ms/step - accuracy: 0.1287 - loss: 5.6255\n",
          "output_type": "stream"
        },
        {
          "name": "stderr",
          "text": "Training Progress:  80%|████████  | 8/10 [35:00<08:43, 261.56s/epoch]",
          "output_type": "stream"
        },
        {
          "name": "stdout",
          "text": "\u001b[1m2888/2888\u001b[0m \u001b[32m━━━━━━━━━━━━━━━━━━━━\u001b[0m\u001b[37m\u001b[0m \u001b[1m240s\u001b[0m 83ms/step - accuracy: 0.1302 - loss: 5.5518\n",
          "output_type": "stream"
        },
        {
          "name": "stderr",
          "text": "Training Progress:  90%|█████████ | 9/10 [39:20<04:21, 261.19s/epoch]",
          "output_type": "stream"
        },
        {
          "name": "stdout",
          "text": "\u001b[1m2888/2888\u001b[0m \u001b[32m━━━━━━━━━━━━━━━━━━━━\u001b[0m\u001b[37m\u001b[0m \u001b[1m241s\u001b[0m 84ms/step - accuracy: 0.1337 - loss: 5.4714\n",
          "output_type": "stream"
        },
        {
          "name": "stderr",
          "text": "Training Progress: 100%|██████████| 10/10 [43:43<00:00, 262.31s/epoch]\n",
          "output_type": "stream"
        }
      ],
      "execution_count": null
    },
    {
      "cell_type": "code",
      "source": [
        "# Save the model\n",
        "model.save(\"roman_urdu_poetry_model.h5\")\n"
      ],
      "metadata": {
        "trusted": true,
        "execution": {
          "iopub.status.busy": "2025-02-17T10:22:26.461520Z",
          "iopub.execute_input": "2025-02-17T10:22:26.461892Z",
          "iopub.status.idle": "2025-02-17T10:22:26.588273Z",
          "shell.execute_reply.started": "2025-02-17T10:22:26.461860Z",
          "shell.execute_reply": "2025-02-17T10:22:26.587593Z"
        },
        "id": "XRx51ZueOkpp"
      },
      "outputs": [],
      "execution_count": null
    },
    {
      "cell_type": "code",
      "source": [
        "# Poetry generation function with temperature scaling\n",
        "def generate_poetry(seed_text, next_words=150, temperature=1.0):\n",
        "    \"\"\"\n",
        "    Generates poetry given a seed text using LSTM model.\n",
        "    \"\"\"\n",
        "    for _ in range(next_words):\n",
        "        token_list = tokenizer.texts_to_sequences([seed_text])[0]\n",
        "        token_list = pad_sequences([token_list], maxlen=max_sequence_length - 1, padding='pre')\n",
        "\n",
        "        predictions = model.predict(token_list, verbose=0)[0]\n",
        "        predictions = np.log(predictions + 1e-10) / temperature\n",
        "        exp_preds = np.exp(predictions)\n",
        "        probabilities = exp_preds / np.sum(exp_preds)\n",
        "\n",
        "        predicted_index = np.random.choice(len(probabilities), p=probabilities)\n",
        "        predicted_word = tokenizer.index_word.get(predicted_index, '')\n",
        "\n",
        "        seed_text += \" \" + predicted_word\n",
        "    return seed_text"
      ],
      "metadata": {
        "trusted": true,
        "execution": {
          "iopub.status.busy": "2025-02-17T10:22:26.589106Z",
          "iopub.execute_input": "2025-02-17T10:22:26.589413Z",
          "iopub.status.idle": "2025-02-17T10:22:26.594942Z",
          "shell.execute_reply.started": "2025-02-17T10:22:26.589375Z",
          "shell.execute_reply": "2025-02-17T10:22:26.594209Z"
        },
        "id": "MXhmV35bOkpp"
      },
      "outputs": [],
      "execution_count": null
    },
    {
      "cell_type": "code",
      "source": [
        "# Example poetry generation\n",
        "print(generate_poetry(\"teri ankhon kay siwa is duniya mein  \", next_words=130, temperature=0.8))"
      ],
      "metadata": {
        "trusted": true,
        "execution": {
          "iopub.status.busy": "2025-02-17T10:24:42.386345Z",
          "iopub.execute_input": "2025-02-17T10:24:42.386701Z",
          "iopub.status.idle": "2025-02-17T10:24:51.316420Z",
          "shell.execute_reply.started": "2025-02-17T10:24:42.386674Z",
          "shell.execute_reply": "2025-02-17T10:24:51.315509Z"
        },
        "id": "BYl17TW1Okpq",
        "outputId": "c6cfe48b-bfc6-4afe-d5db-0ca8205bc974"
      },
      "outputs": [
        {
          "name": "stdout",
          "text": "teri ankhon kay siwa is duniya mein   ki ham nazar se bahut mujh ko khel hoga ki kya karte hamen tak khvar hi nahin aata tu nazar hain ki aaj ye jo thiin ud ke bhi ai zindagi shahr men vahi shahr men in shatranj safar dil sar e dil to ja har shakhs ho to ho na haivan ki chal zara har ik mujh par vo log apne liye hi ab bhi kahiye ham to aur hai umr dil ki kam bhi nikle aaj hote par is ki kuchh na jaata hai raah zaban men kiya gar bhi ye din e koh e visal nahin ki hai nahin jahan hai gar to ham vo bach kar karte hue kuchh aur ham ne tire jahan men sar kiye hain ye siine men dil men vo ham har\n",
          "output_type": "stream"
        }
      ],
      "execution_count": null
    }
  ]
}